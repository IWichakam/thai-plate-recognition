{
  "nbformat": 4,
  "nbformat_minor": 0,
  "metadata": {
    "colab": {
      "name": "Untitled0.ipynb",
      "provenance": [],
      "mount_file_id": "1vzjUX6xpo-xC06yEXTpr2JVXt-5F4ay-",
      "authorship_tag": "ABX9TyMARMcWIvWrEE5RLQ5KNTzZ",
      "include_colab_link": true
    },
    "kernelspec": {
      "name": "python2",
      "display_name": "Python 2"
    },
    "accelerator": "GPU"
  },
  "cells": [
    {
      "cell_type": "markdown",
      "metadata": {
        "id": "view-in-github",
        "colab_type": "text"
      },
      "source": [
        "<a href=\"https://colab.research.google.com/github/IWichakam/thai-plate-recognition/blob/master/Untitled0.ipynb\" target=\"_parent\"><img src=\"https://colab.research.google.com/assets/colab-badge.svg\" alt=\"Open In Colab\"/></a>"
      ]
    },
    {
      "cell_type": "code",
      "metadata": {
        "id": "7Mon2FOgZ2rP",
        "colab_type": "code",
        "colab": {
          "base_uri": "https://localhost:8080/",
          "height": 326
        },
        "outputId": "b17ce95c-66e8-4239-a293-d4e675481e0b"
      },
      "source": [
        "!pip install git+https://www.github.com/keras-team/keras-contrib.git"
      ],
      "execution_count": 1,
      "outputs": [
        {
          "output_type": "stream",
          "text": [
            "Collecting git+https://www.github.com/keras-team/keras-contrib.git\n",
            "  Cloning https://www.github.com/keras-team/keras-contrib.git to /tmp/pip-req-build-4COjf5\n",
            "  Running command git clone -q https://www.github.com/keras-team/keras-contrib.git /tmp/pip-req-build-4COjf5\n",
            "Requirement already satisfied (use --upgrade to upgrade): keras-contrib==2.0.8 from git+https://www.github.com/keras-team/keras-contrib.git in /usr/local/lib/python2.7/dist-packages\n",
            "Requirement already satisfied: keras in /usr/local/lib/python2.7/dist-packages (from keras-contrib==2.0.8) (2.2.4)\n",
            "Requirement already satisfied: keras-applications>=1.0.6 in /usr/local/lib/python2.7/dist-packages (from keras->keras-contrib==2.0.8) (1.0.8)\n",
            "Requirement already satisfied: numpy>=1.9.1 in /usr/local/lib/python2.7/dist-packages (from keras->keras-contrib==2.0.8) (1.16.4)\n",
            "Requirement already satisfied: keras-preprocessing>=1.0.5 in /usr/local/lib/python2.7/dist-packages (from keras->keras-contrib==2.0.8) (1.1.0)\n",
            "Requirement already satisfied: scipy>=0.14 in /usr/local/lib/python2.7/dist-packages (from keras->keras-contrib==2.0.8) (1.2.2)\n",
            "Requirement already satisfied: h5py in /usr/local/lib/python2.7/dist-packages (from keras->keras-contrib==2.0.8) (2.8.0)\n",
            "Requirement already satisfied: pyyaml in /usr/local/lib/python2.7/dist-packages (from keras->keras-contrib==2.0.8) (3.13)\n",
            "Requirement already satisfied: six>=1.9.0 in /usr/local/lib/python2.7/dist-packages (from keras->keras-contrib==2.0.8) (1.12.0)\n",
            "Building wheels for collected packages: keras-contrib\n",
            "  Building wheel for keras-contrib (setup.py) ... \u001b[?25l\u001b[?25hdone\n",
            "  Created wheel for keras-contrib: filename=keras_contrib-2.0.8-cp27-none-any.whl size=101065 sha256=776fd77931522e4e954ff4c2325256a4573b4b0ce8c028f980f4d2d5478e0f4b\n",
            "  Stored in directory: /tmp/pip-ephem-wheel-cache-_sLvLG/wheels/11/27/c8/4ed56de7b55f4f61244e2dc6ef3cdbaff2692527a2ce6502ba\n",
            "Successfully built keras-contrib\n"
          ],
          "name": "stdout"
        }
      ]
    },
    {
      "cell_type": "code",
      "metadata": {
        "id": "P-8trQjbYKsq",
        "colab_type": "code",
        "colab": {}
      },
      "source": [
        "import sys\n",
        "sys.path.append('/content/drive/My Drive/EEG_classification/code')"
      ],
      "execution_count": 0,
      "outputs": []
    },
    {
      "cell_type": "code",
      "metadata": {
        "id": "2VFrWfbsZP3u",
        "colab_type": "code",
        "colab": {
          "base_uri": "https://localhost:8080/",
          "height": 97
        },
        "outputId": "c19ab8e1-12f5-49d7-85eb-e0521d785c52"
      },
      "source": [
        "from models import get_model_cnn\n",
        "import numpy as np\n",
        "from utils import gen, chunker, WINDOW_SIZE, rescale_array\n",
        "from keras.callbacks import ModelCheckpoint, EarlyStopping, ReduceLROnPlateau\n",
        "from sklearn.metrics import f1_score, accuracy_score, classification_report\n",
        "from glob import glob\n",
        "import os\n",
        "from sklearn.model_selection import train_test_split\n",
        "from tqdm import tqdm"
      ],
      "execution_count": 3,
      "outputs": [
        {
          "output_type": "stream",
          "text": [
            "Using TensorFlow backend.\n"
          ],
          "name": "stderr"
        },
        {
          "output_type": "display_data",
          "data": {
            "text/plain": [
              "<IPython.core.display.HTML object>"
            ],
            "text/html": [
              "<p style=\"color: red;\">\n",
              "The default version of TensorFlow in Colab will soon switch to TensorFlow 2.x.<br>\n",
              "We recommend you <a href=\"https://www.tensorflow.org/guide/migrate\" target=\"_blank\">upgrade</a> now \n",
              "or ensure your notebook will continue to use TensorFlow 1.x via the <code>%tensorflow_version 1.x</code> magic:\n",
              "<a href=\"https://colab.research.google.com/notebooks/tensorflow_version.ipynb\" target=\"_blank\">more info</a>.</p>\n"
            ]
          },
          "metadata": {
            "tags": []
          }
        }
      ]
    },
    {
      "cell_type": "code",
      "metadata": {
        "id": "dtj3lnedZscw",
        "colab_type": "code",
        "colab": {}
      },
      "source": [
        "base_path = \"/content/drive/My Drive/EEG_classification/deepsleepnet_data/data/physionet_sleep/eeg_fpz_cz\""
      ],
      "execution_count": 0,
      "outputs": []
    },
    {
      "cell_type": "code",
      "metadata": {
        "id": "p2FJVYhIaNim",
        "colab_type": "code",
        "colab": {}
      },
      "source": [
        "files = sorted(glob(os.path.join(base_path, \"*.npz\")))\n",
        "\n",
        "ids = sorted(list(set([x.split(\"/\")[-1][:5] for x in files])))\n",
        "#split by test subject\n",
        "train_ids, test_ids = train_test_split(ids, test_size=0.15, random_state=1337)\n",
        "\n",
        "train_val, test = [x for x in files if x.split(\"/\")[-1][:5] in train_ids],\\\n",
        "                  [x for x in files if x.split(\"/\")[-1][:5] in test_ids]\n",
        "\n",
        "train, val = train_test_split(train_val, test_size=0.1, random_state=1337)\n",
        "\n",
        "train_dict = {k: np.load(k) for k in train}\n",
        "test_dict = {k: np.load(k) for k in test}\n",
        "val_dict = {k: np.load(k) for k in val}"
      ],
      "execution_count": 0,
      "outputs": []
    },
    {
      "cell_type": "code",
      "metadata": {
        "id": "-SBCPLQVaT4Y",
        "colab_type": "code",
        "colab": {
          "base_uri": "https://localhost:8080/",
          "height": 700
        },
        "outputId": "36345425-e2a2-49de-af33-5e3033d4d39a"
      },
      "source": [
        "model = get_model_cnn()\n",
        "\n",
        "file_path = \"cnn_model.h5\"\n",
        "# model.load_weights(file_path)"
      ],
      "execution_count": 6,
      "outputs": [
        {
          "output_type": "stream",
          "text": [
            "WARNING: Logging before flag parsing goes to stderr.\n",
            "W0310 18:24:13.894151 139836400310144 module_wrapper.py:139] From /usr/local/lib/python2.7/dist-packages/keras/backend/tensorflow_backend.py:74: The name tf.get_default_graph is deprecated. Please use tf.compat.v1.get_default_graph instead.\n",
            "\n",
            "W0310 18:24:13.896528 139836400310144 module_wrapper.py:139] From /usr/local/lib/python2.7/dist-packages/keras/backend/tensorflow_backend.py:517: The name tf.placeholder is deprecated. Please use tf.compat.v1.placeholder instead.\n",
            "\n",
            "W0310 18:24:13.902779 139836400310144 module_wrapper.py:139] From /usr/local/lib/python2.7/dist-packages/keras/backend/tensorflow_backend.py:4138: The name tf.random_uniform is deprecated. Please use tf.random.uniform instead.\n",
            "\n",
            "W0310 18:24:13.942437 139836400310144 module_wrapper.py:139] From /usr/local/lib/python2.7/dist-packages/keras/backend/tensorflow_backend.py:3976: The name tf.nn.max_pool is deprecated. Please use tf.nn.max_pool2d instead.\n",
            "\n",
            "W0310 18:24:13.953311 139836400310144 module_wrapper.py:139] From /usr/local/lib/python2.7/dist-packages/keras/backend/tensorflow_backend.py:133: The name tf.placeholder_with_default is deprecated. Please use tf.compat.v1.placeholder_with_default instead.\n",
            "\n",
            "W0310 18:24:13.964010 139836400310144 deprecation.py:506] From /usr/local/lib/python2.7/dist-packages/keras/backend/tensorflow_backend.py:3445: calling dropout (from tensorflow.python.ops.nn_ops) with keep_prob is deprecated and will be removed in a future version.\n",
            "Instructions for updating:\n",
            "Please use `rate` instead of `keep_prob`. Rate should be set to `rate = 1 - keep_prob`.\n",
            "W0310 18:24:14.170506 139836400310144 module_wrapper.py:139] From /usr/local/lib/python2.7/dist-packages/keras/optimizers.py:790: The name tf.train.Optimizer is deprecated. Please use tf.compat.v1.train.Optimizer instead.\n",
            "\n",
            "W0310 18:24:14.178580 139836400310144 module_wrapper.py:139] From /usr/local/lib/python2.7/dist-packages/keras/backend/tensorflow_backend.py:3341: The name tf.log is deprecated. Please use tf.math.log instead.\n",
            "\n"
          ],
          "name": "stderr"
        },
        {
          "output_type": "stream",
          "text": [
            "_________________________________________________________________\n",
            "Layer (type)                 Output Shape              Param #   \n",
            "=================================================================\n",
            "input_1 (InputLayer)         (None, None, 3000, 1)     0         \n",
            "_________________________________________________________________\n",
            "time_distributed_1 (TimeDist (None, None, 64)          250416    \n",
            "_________________________________________________________________\n",
            "conv1d_9 (Conv1D)            (None, None, 128)         24704     \n",
            "_________________________________________________________________\n",
            "spatial_dropout1d_4 (Spatial (None, None, 128)         0         \n",
            "_________________________________________________________________\n",
            "conv1d_10 (Conv1D)           (None, None, 128)         49280     \n",
            "_________________________________________________________________\n",
            "dropout_3 (Dropout)          (None, None, 128)         0         \n",
            "_________________________________________________________________\n",
            "conv1d_11 (Conv1D)           (None, None, 5)           1925      \n",
            "=================================================================\n",
            "Total params: 326,325\n",
            "Trainable params: 326,325\n",
            "Non-trainable params: 0\n",
            "_________________________________________________________________\n"
          ],
          "name": "stdout"
        }
      ]
    },
    {
      "cell_type": "code",
      "metadata": {
        "id": "Rc7xjVZxaqWX",
        "colab_type": "code",
        "colab": {
          "base_uri": "https://localhost:8080/",
          "height": 1000
        },
        "outputId": "4d962fca-453a-4850-8713-b8a05c24b7c8"
      },
      "source": [
        "checkpoint = ModelCheckpoint(file_path, monitor='val_acc', verbose=1, save_best_only=True, mode='max')\n",
        "early = EarlyStopping(monitor=\"val_acc\", mode=\"max\", patience=20, verbose=1)\n",
        "redonplat = ReduceLROnPlateau(monitor=\"val_acc\", mode=\"max\", patience=5, verbose=2)\n",
        "callbacks_list = [checkpoint, early, redonplat]  # early\n",
        "\n",
        "model.fit_generator(gen(train_dict, aug=False), validation_data=gen(val_dict), epochs=100, verbose=2,\n",
        "                    steps_per_epoch=200, validation_steps=60, callbacks=callbacks_list)"
      ],
      "execution_count": 7,
      "outputs": [
        {
          "output_type": "stream",
          "text": [
            "W0310 18:24:14.570131 139836400310144 deprecation.py:323] From /usr/local/lib/python2.7/dist-packages/tensorflow_core/python/ops/math_grad.py:1424: where (from tensorflow.python.ops.array_ops) is deprecated and will be removed in a future version.\n",
            "Instructions for updating:\n",
            "Use tf.where in 2.0, which has the same broadcast rule as np.where\n",
            "W0310 18:24:15.045258 139836400310144 module_wrapper.py:139] From /usr/local/lib/python2.7/dist-packages/keras/backend/tensorflow_backend.py:986: The name tf.assign_add is deprecated. Please use tf.compat.v1.assign_add instead.\n",
            "\n",
            "W0310 18:24:15.443780 139836400310144 module_wrapper.py:139] From /usr/local/lib/python2.7/dist-packages/keras/backend/tensorflow_backend.py:973: The name tf.assign is deprecated. Please use tf.compat.v1.assign instead.\n",
            "\n",
            "W0310 18:24:15.745611 139836400310144 module_wrapper.py:139] From /usr/local/lib/python2.7/dist-packages/keras/backend/tensorflow_backend.py:2741: The name tf.Session is deprecated. Please use tf.compat.v1.Session instead.\n",
            "\n",
            "W0310 18:24:15.834235 139836400310144 module_wrapper.py:139] From /usr/local/lib/python2.7/dist-packages/keras/backend/tensorflow_backend.py:174: The name tf.get_default_session is deprecated. Please use tf.compat.v1.get_default_session instead.\n",
            "\n",
            "W0310 18:24:15.842344 139836400310144 module_wrapper.py:139] From /usr/local/lib/python2.7/dist-packages/keras/backend/tensorflow_backend.py:181: The name tf.ConfigProto is deprecated. Please use tf.compat.v1.ConfigProto instead.\n",
            "\n"
          ],
          "name": "stderr"
        },
        {
          "output_type": "stream",
          "text": [
            "Epoch 1/100\n"
          ],
          "name": "stdout"
        },
        {
          "output_type": "stream",
          "text": [
            "W0310 18:24:16.020370 139836400310144 module_wrapper.py:139] From /usr/local/lib/python2.7/dist-packages/keras/backend/tensorflow_backend.py:190: The name tf.global_variables is deprecated. Please use tf.compat.v1.global_variables instead.\n",
            "\n",
            "W0310 18:24:16.022231 139836400310144 module_wrapper.py:139] From /usr/local/lib/python2.7/dist-packages/keras/backend/tensorflow_backend.py:199: The name tf.is_variable_initialized is deprecated. Please use tf.compat.v1.is_variable_initialized instead.\n",
            "\n",
            "W0310 18:24:16.243777 139836400310144 module_wrapper.py:139] From /usr/local/lib/python2.7/dist-packages/keras/backend/tensorflow_backend.py:206: The name tf.variables_initializer is deprecated. Please use tf.compat.v1.variables_initializer instead.\n",
            "\n"
          ],
          "name": "stderr"
        },
        {
          "output_type": "stream",
          "text": [
            " - 22s - loss: 1.4644 - acc: 0.4294 - val_loss: 1.4475 - val_acc: 0.4722\n",
            "\n",
            "Epoch 00001: val_acc improved from -inf to 0.47217, saving model to cnn_model.h5\n",
            "Epoch 2/100\n",
            " - 18s - loss: 1.3797 - acc: 0.4212 - val_loss: 1.5195 - val_acc: 0.5257\n",
            "\n",
            "Epoch 00002: val_acc improved from 0.47217 to 0.52567, saving model to cnn_model.h5\n",
            "Epoch 3/100\n",
            " - 18s - loss: 1.3173 - acc: 0.4819 - val_loss: 1.2345 - val_acc: 0.3837\n",
            "\n",
            "Epoch 00003: val_acc did not improve from 0.52567\n",
            "Epoch 4/100\n",
            " - 18s - loss: 1.1420 - acc: 0.5483 - val_loss: 1.3212 - val_acc: 0.4408\n",
            "\n",
            "Epoch 00004: val_acc did not improve from 0.52567\n",
            "Epoch 5/100\n",
            " - 18s - loss: 1.1656 - acc: 0.5715 - val_loss: 1.1567 - val_acc: 0.5333\n",
            "\n",
            "Epoch 00005: val_acc improved from 0.52567 to 0.53333, saving model to cnn_model.h5\n",
            "Epoch 6/100\n",
            " - 18s - loss: 1.0893 - acc: 0.5788 - val_loss: 1.1301 - val_acc: 0.5460\n",
            "\n",
            "Epoch 00006: val_acc improved from 0.53333 to 0.54600, saving model to cnn_model.h5\n",
            "Epoch 7/100\n",
            " - 18s - loss: 1.0825 - acc: 0.5705 - val_loss: 1.0684 - val_acc: 0.6015\n",
            "\n",
            "Epoch 00007: val_acc improved from 0.54600 to 0.60150, saving model to cnn_model.h5\n",
            "Epoch 8/100\n",
            " - 18s - loss: 1.1226 - acc: 0.5586 - val_loss: 1.1707 - val_acc: 0.4913\n",
            "\n",
            "Epoch 00008: val_acc did not improve from 0.60150\n",
            "Epoch 9/100\n",
            " - 18s - loss: 1.0374 - acc: 0.5962 - val_loss: 1.5175 - val_acc: 0.4335\n",
            "\n",
            "Epoch 00009: val_acc did not improve from 0.60150\n",
            "Epoch 10/100\n",
            " - 18s - loss: 1.0300 - acc: 0.6008 - val_loss: 1.2104 - val_acc: 0.4520\n",
            "\n",
            "Epoch 00010: val_acc did not improve from 0.60150\n",
            "Epoch 11/100\n",
            " - 18s - loss: 1.0296 - acc: 0.6189 - val_loss: 1.0473 - val_acc: 0.5623\n",
            "\n",
            "Epoch 00011: val_acc did not improve from 0.60150\n",
            "Epoch 12/100\n",
            " - 18s - loss: 1.1277 - acc: 0.5572 - val_loss: 1.1534 - val_acc: 0.4450\n",
            "\n",
            "Epoch 00012: val_acc did not improve from 0.60150\n",
            "\n",
            "Epoch 00012: ReduceLROnPlateau reducing learning rate to 0.00010000000475.\n",
            "Epoch 13/100\n",
            " - 18s - loss: 0.8747 - acc: 0.6790 - val_loss: 0.8388 - val_acc: 0.6887\n",
            "\n",
            "Epoch 00013: val_acc improved from 0.60150 to 0.68867, saving model to cnn_model.h5\n",
            "Epoch 14/100\n",
            " - 18s - loss: 0.8562 - acc: 0.6638 - val_loss: 0.9866 - val_acc: 0.6310\n",
            "\n",
            "Epoch 00014: val_acc did not improve from 0.68867\n",
            "Epoch 15/100\n",
            " - 18s - loss: 0.8727 - acc: 0.6654 - val_loss: 0.7866 - val_acc: 0.6903\n",
            "\n",
            "Epoch 00015: val_acc improved from 0.68867 to 0.69033, saving model to cnn_model.h5\n",
            "Epoch 16/100\n",
            " - 18s - loss: 0.8384 - acc: 0.6694 - val_loss: 0.6048 - val_acc: 0.7978\n",
            "\n",
            "Epoch 00016: val_acc improved from 0.69033 to 0.79783, saving model to cnn_model.h5\n",
            "Epoch 17/100\n",
            " - 18s - loss: 0.7386 - acc: 0.7254 - val_loss: 0.5899 - val_acc: 0.8412\n",
            "\n",
            "Epoch 00017: val_acc improved from 0.79783 to 0.84117, saving model to cnn_model.h5\n",
            "Epoch 18/100\n",
            " - 18s - loss: 0.7347 - acc: 0.7342 - val_loss: 0.6105 - val_acc: 0.7938\n",
            "\n",
            "Epoch 00018: val_acc did not improve from 0.84117\n",
            "Epoch 19/100\n",
            " - 18s - loss: 0.6572 - acc: 0.7623 - val_loss: 0.6136 - val_acc: 0.8087\n",
            "\n",
            "Epoch 00019: val_acc did not improve from 0.84117\n",
            "Epoch 20/100\n",
            " - 18s - loss: 0.6447 - acc: 0.7707 - val_loss: 0.5064 - val_acc: 0.8268\n",
            "\n",
            "Epoch 00020: val_acc did not improve from 0.84117\n",
            "Epoch 21/100\n",
            " - 18s - loss: 0.5938 - acc: 0.7890 - val_loss: 0.5105 - val_acc: 0.8358\n",
            "\n",
            "Epoch 00021: val_acc did not improve from 0.84117\n",
            "Epoch 22/100\n",
            " - 18s - loss: 0.6263 - acc: 0.7671 - val_loss: 0.5783 - val_acc: 0.7983\n",
            "\n",
            "Epoch 00022: val_acc did not improve from 0.84117\n",
            "\n",
            "Epoch 00022: ReduceLROnPlateau reducing learning rate to 1.0000000475e-05.\n",
            "Epoch 23/100\n",
            " - 18s - loss: 0.6202 - acc: 0.7704 - val_loss: 0.5803 - val_acc: 0.8112\n",
            "\n",
            "Epoch 00023: val_acc did not improve from 0.84117\n",
            "Epoch 24/100\n",
            " - 18s - loss: 0.5455 - acc: 0.8106 - val_loss: 0.6138 - val_acc: 0.7952\n",
            "\n",
            "Epoch 00024: val_acc did not improve from 0.84117\n",
            "Epoch 25/100\n",
            " - 18s - loss: 0.5857 - acc: 0.7861 - val_loss: 0.6258 - val_acc: 0.7832\n",
            "\n",
            "Epoch 00025: val_acc did not improve from 0.84117\n",
            "Epoch 26/100\n",
            " - 18s - loss: 0.5818 - acc: 0.7884 - val_loss: 0.4532 - val_acc: 0.8422\n",
            "\n",
            "Epoch 00026: val_acc improved from 0.84117 to 0.84217, saving model to cnn_model.h5\n",
            "Epoch 27/100\n",
            " - 18s - loss: 0.5811 - acc: 0.7877 - val_loss: 0.5436 - val_acc: 0.8108\n",
            "\n",
            "Epoch 00027: val_acc did not improve from 0.84217\n",
            "Epoch 28/100\n",
            " - 18s - loss: 0.5913 - acc: 0.7781 - val_loss: 0.6569 - val_acc: 0.7783\n",
            "\n",
            "Epoch 00028: val_acc did not improve from 0.84217\n",
            "Epoch 29/100\n",
            " - 18s - loss: 0.5485 - acc: 0.7979 - val_loss: 0.4755 - val_acc: 0.8348\n",
            "\n",
            "Epoch 00029: val_acc did not improve from 0.84217\n",
            "Epoch 30/100\n",
            " - 18s - loss: 0.6781 - acc: 0.7517 - val_loss: 0.5887 - val_acc: 0.8020\n",
            "\n",
            "Epoch 00030: val_acc did not improve from 0.84217\n",
            "Epoch 31/100\n",
            " - 18s - loss: 0.5573 - acc: 0.8035 - val_loss: 0.5824 - val_acc: 0.7885\n",
            "\n",
            "Epoch 00031: val_acc did not improve from 0.84217\n",
            "\n",
            "Epoch 00031: ReduceLROnPlateau reducing learning rate to 1.00000006569e-06.\n",
            "Epoch 32/100\n",
            " - 18s - loss: 0.6103 - acc: 0.7749 - val_loss: 0.5199 - val_acc: 0.8263\n",
            "\n",
            "Epoch 00032: val_acc did not improve from 0.84217\n",
            "Epoch 33/100\n",
            " - 18s - loss: 0.6112 - acc: 0.7752 - val_loss: 0.5558 - val_acc: 0.8040\n",
            "\n",
            "Epoch 00033: val_acc did not improve from 0.84217\n",
            "Epoch 34/100\n",
            " - 18s - loss: 0.6388 - acc: 0.7654 - val_loss: 0.6299 - val_acc: 0.7852\n",
            "\n",
            "Epoch 00034: val_acc did not improve from 0.84217\n",
            "Epoch 35/100\n",
            " - 18s - loss: 0.6173 - acc: 0.7758 - val_loss: 0.4667 - val_acc: 0.8315\n",
            "\n",
            "Epoch 00035: val_acc did not improve from 0.84217\n",
            "Epoch 36/100\n",
            " - 18s - loss: 0.6252 - acc: 0.7666 - val_loss: 0.5819 - val_acc: 0.7923\n",
            "\n",
            "Epoch 00036: val_acc did not improve from 0.84217\n",
            "\n",
            "Epoch 00036: ReduceLROnPlateau reducing learning rate to 1.00000011116e-07.\n",
            "Epoch 37/100\n",
            " - 18s - loss: 0.6722 - acc: 0.7492 - val_loss: 0.4375 - val_acc: 0.8540\n",
            "\n",
            "Epoch 00037: val_acc improved from 0.84217 to 0.85400, saving model to cnn_model.h5\n",
            "Epoch 38/100\n",
            " - 18s - loss: 0.6451 - acc: 0.7534 - val_loss: 0.5562 - val_acc: 0.8148\n",
            "\n",
            "Epoch 00038: val_acc did not improve from 0.85400\n",
            "Epoch 39/100\n",
            " - 18s - loss: 0.5826 - acc: 0.7815 - val_loss: 0.5604 - val_acc: 0.8028\n",
            "\n",
            "Epoch 00039: val_acc did not improve from 0.85400\n",
            "Epoch 40/100\n",
            " - 18s - loss: 0.6209 - acc: 0.7727 - val_loss: 0.5628 - val_acc: 0.8092\n",
            "\n",
            "Epoch 00040: val_acc did not improve from 0.85400\n",
            "Epoch 41/100\n",
            " - 18s - loss: 0.6137 - acc: 0.7747 - val_loss: 0.4815 - val_acc: 0.8352\n",
            "\n",
            "Epoch 00041: val_acc did not improve from 0.85400\n",
            "Epoch 42/100\n",
            " - 18s - loss: 0.6248 - acc: 0.7820 - val_loss: 0.4140 - val_acc: 0.8578\n",
            "\n",
            "Epoch 00042: val_acc improved from 0.85400 to 0.85783, saving model to cnn_model.h5\n",
            "Epoch 43/100\n",
            " - 18s - loss: 0.5655 - acc: 0.8000 - val_loss: 0.5106 - val_acc: 0.8437\n",
            "\n",
            "Epoch 00043: val_acc did not improve from 0.85783\n",
            "Epoch 44/100\n",
            " - 18s - loss: 0.6544 - acc: 0.7652 - val_loss: 0.5812 - val_acc: 0.8008\n",
            "\n",
            "Epoch 00044: val_acc did not improve from 0.85783\n",
            "Epoch 45/100\n",
            " - 18s - loss: 0.6373 - acc: 0.7686 - val_loss: 0.5156 - val_acc: 0.8365\n",
            "\n",
            "Epoch 00045: val_acc did not improve from 0.85783\n",
            "Epoch 46/100\n",
            " - 18s - loss: 0.6245 - acc: 0.7697 - val_loss: 0.4011 - val_acc: 0.8715\n",
            "\n",
            "Epoch 00046: val_acc improved from 0.85783 to 0.87150, saving model to cnn_model.h5\n",
            "Epoch 47/100\n",
            " - 18s - loss: 0.6025 - acc: 0.7758 - val_loss: 0.5243 - val_acc: 0.8120\n",
            "\n",
            "Epoch 00047: val_acc did not improve from 0.87150\n",
            "Epoch 48/100\n",
            " - 18s - loss: 0.5834 - acc: 0.7883 - val_loss: 0.5060 - val_acc: 0.8360\n",
            "\n",
            "Epoch 00048: val_acc did not improve from 0.87150\n",
            "Epoch 49/100\n",
            " - 18s - loss: 0.6215 - acc: 0.7773 - val_loss: 0.4617 - val_acc: 0.8460\n",
            "\n",
            "Epoch 00049: val_acc did not improve from 0.87150\n",
            "Epoch 50/100\n",
            " - 18s - loss: 0.6192 - acc: 0.7828 - val_loss: 0.4983 - val_acc: 0.8353\n",
            "\n",
            "Epoch 00050: val_acc did not improve from 0.87150\n",
            "Epoch 51/100\n",
            " - 18s - loss: 0.6057 - acc: 0.7729 - val_loss: 0.4691 - val_acc: 0.8440\n",
            "\n",
            "Epoch 00051: val_acc did not improve from 0.87150\n",
            "\n",
            "Epoch 00051: ReduceLROnPlateau reducing learning rate to 1.00000008274e-08.\n",
            "Epoch 52/100\n",
            " - 18s - loss: 0.6288 - acc: 0.7661 - val_loss: 0.3899 - val_acc: 0.8680\n",
            "\n",
            "Epoch 00052: val_acc did not improve from 0.87150\n",
            "Epoch 53/100\n",
            " - 18s - loss: 0.5681 - acc: 0.8005 - val_loss: 0.5926 - val_acc: 0.7870\n",
            "\n",
            "Epoch 00053: val_acc did not improve from 0.87150\n",
            "Epoch 54/100\n",
            " - 18s - loss: 0.6138 - acc: 0.7794 - val_loss: 0.5197 - val_acc: 0.8282\n",
            "\n",
            "Epoch 00054: val_acc did not improve from 0.87150\n",
            "Epoch 55/100\n",
            " - 18s - loss: 0.6346 - acc: 0.7592 - val_loss: 0.5644 - val_acc: 0.8127\n",
            "\n",
            "Epoch 00055: val_acc did not improve from 0.87150\n",
            "Epoch 56/100\n",
            " - 18s - loss: 0.6264 - acc: 0.7695 - val_loss: 0.5708 - val_acc: 0.7972\n",
            "\n",
            "Epoch 00056: val_acc did not improve from 0.87150\n",
            "\n",
            "Epoch 00056: ReduceLROnPlateau reducing learning rate to 1.00000008274e-09.\n",
            "Epoch 57/100\n",
            " - 18s - loss: 0.6227 - acc: 0.7786 - val_loss: 0.5017 - val_acc: 0.8227\n",
            "\n",
            "Epoch 00057: val_acc did not improve from 0.87150\n",
            "Epoch 58/100\n",
            " - 18s - loss: 0.6896 - acc: 0.7430 - val_loss: 0.5873 - val_acc: 0.8018\n",
            "\n",
            "Epoch 00058: val_acc did not improve from 0.87150\n",
            "Epoch 59/100\n",
            " - 18s - loss: 0.6941 - acc: 0.7523 - val_loss: 0.4490 - val_acc: 0.8482\n",
            "\n",
            "Epoch 00059: val_acc did not improve from 0.87150\n",
            "Epoch 60/100\n",
            " - 18s - loss: 0.6771 - acc: 0.7552 - val_loss: 0.4341 - val_acc: 0.8602\n",
            "\n",
            "Epoch 00060: val_acc did not improve from 0.87150\n",
            "Epoch 61/100\n",
            " - 18s - loss: 0.5843 - acc: 0.7872 - val_loss: 0.4671 - val_acc: 0.8397\n",
            "\n",
            "Epoch 00061: val_acc did not improve from 0.87150\n",
            "\n",
            "Epoch 00061: ReduceLROnPlateau reducing learning rate to 1.00000008274e-10.\n",
            "Epoch 62/100\n",
            " - 18s - loss: 0.6395 - acc: 0.7664 - val_loss: 0.5300 - val_acc: 0.8228\n",
            "\n",
            "Epoch 00062: val_acc did not improve from 0.87150\n",
            "Epoch 63/100\n",
            " - 18s - loss: 0.5859 - acc: 0.7902 - val_loss: 0.4994 - val_acc: 0.8300\n",
            "\n",
            "Epoch 00063: val_acc did not improve from 0.87150\n",
            "Epoch 64/100\n",
            " - 18s - loss: 0.6057 - acc: 0.7789 - val_loss: 0.5923 - val_acc: 0.7998\n",
            "\n",
            "Epoch 00064: val_acc did not improve from 0.87150\n",
            "Epoch 65/100\n",
            " - 18s - loss: 0.6334 - acc: 0.7724 - val_loss: 0.6346 - val_acc: 0.7748\n",
            "\n",
            "Epoch 00065: val_acc did not improve from 0.87150\n",
            "Epoch 66/100\n",
            " - 18s - loss: 0.6451 - acc: 0.7646 - val_loss: 0.5929 - val_acc: 0.7872\n",
            "\n",
            "Epoch 00066: val_acc did not improve from 0.87150\n",
            "\n",
            "Epoch 00066: ReduceLROnPlateau reducing learning rate to 1.00000008274e-11.\n",
            "Epoch 00066: early stopping\n"
          ],
          "name": "stdout"
        },
        {
          "output_type": "execute_result",
          "data": {
            "text/plain": [
              "<keras.callbacks.History at 0x7f2dd0906850>"
            ]
          },
          "metadata": {
            "tags": []
          },
          "execution_count": 7
        }
      ]
    },
    {
      "cell_type": "code",
      "metadata": {
        "id": "ar_N6x8_ay2i",
        "colab_type": "code",
        "colab": {
          "base_uri": "https://localhost:8080/",
          "height": 34
        },
        "outputId": "1e2c85d7-53b2-4bbf-d51b-c2b38bf7b0fe"
      },
      "source": [
        "model.load_weights(file_path)\n",
        "\n",
        "preds = []\n",
        "gt = []\n",
        "model.load_weights(file_path)\n",
        "for record in tqdm(test_dict):\n",
        "    all_rows = test_dict[record]['x']\n",
        "    for batch_hyp in chunker(range(all_rows.shape[0])):\n",
        "\n",
        "\n",
        "        X = all_rows[min(batch_hyp):max(batch_hyp)+1, ...]\n",
        "        Y = test_dict[record]['y'][min(batch_hyp):max(batch_hyp)+1]\n",
        "\n",
        "        X = np.expand_dims(X, 0)\n",
        "\n",
        "        X = rescale_array(X)\n",
        "\n",
        "        Y_pred = model.predict(X)\n",
        "        Y_pred = Y_pred.argmax(axis=-1).ravel().tolist()\n",
        "\n",
        "        gt += Y.ravel().tolist()\n",
        "        preds += Y_pred"
      ],
      "execution_count": 8,
      "outputs": [
        {
          "output_type": "stream",
          "text": [
            "100%|██████████| 6/6 [00:02<00:00,  2.09it/s]\n"
          ],
          "name": "stderr"
        }
      ]
    },
    {
      "cell_type": "code",
      "metadata": {
        "id": "erzgY_1Ra2dt",
        "colab_type": "code",
        "colab": {
          "base_uri": "https://localhost:8080/",
          "height": 255
        },
        "outputId": "d1be7960-90e2-4505-fcd1-d21c5588ef1f"
      },
      "source": [
        "f1 = f1_score(gt, preds, average=\"macro\")\n",
        "\n",
        "print(\"Seq Test f1 score : %s \"% f1)\n",
        "\n",
        "acc = accuracy_score(gt, preds)\n",
        "\n",
        "print(\"Seq Test accuracy score : %s \"% acc)\n",
        "\n",
        "print(classification_report(gt, preds))"
      ],
      "execution_count": 9,
      "outputs": [
        {
          "output_type": "stream",
          "text": [
            "Seq Test f1 score : 0.6498879926627561 \n",
            "Seq Test accuracy score : 0.7617438867438867 \n",
            "              precision    recall  f1-score   support\n",
            "\n",
            "           0       0.84      0.67      0.74      1091\n",
            "           1       0.46      0.10      0.17       567\n",
            "           2       0.90      0.87      0.89      2852\n",
            "           3       0.74      0.83      0.78       584\n",
            "           4       0.54      0.88      0.67      1122\n",
            "\n",
            "   micro avg       0.76      0.76      0.76      6216\n",
            "   macro avg       0.70      0.67      0.65      6216\n",
            "weighted avg       0.77      0.76      0.75      6216\n",
            "\n"
          ],
          "name": "stdout"
        }
      ]
    },
    {
      "cell_type": "code",
      "metadata": {
        "id": "8oE41sVVcrgo",
        "colab_type": "code",
        "colab": {}
      },
      "source": [
        "import os\n",
        "import h5py\n",
        "import numpy as np\n",
        "import matplotlib.pyplot as plt\n",
        "import datetime as dt\n",
        "import collections\n",
        "import librosa"
      ],
      "execution_count": 0,
      "outputs": []
    },
    {
      "cell_type": "code",
      "metadata": {
        "id": "ObZsczO4dM3V",
        "colab_type": "code",
        "colab": {}
      },
      "source": [
        "path = \"/content/drive/My Drive/EEG_classification/deepsleepnet_data/data/physionet_sleep/eeg_fpz_cz/SC4061E0.npz\"\n",
        "data = np.load(path)\n",
        "\n",
        "x = data['x']\n",
        "y = data['y']"
      ],
      "execution_count": 0,
      "outputs": []
    },
    {
      "cell_type": "code",
      "metadata": {
        "id": "JQ_a4FrVgE7x",
        "colab_type": "code",
        "colab": {
          "base_uri": "https://localhost:8080/",
          "height": 573
        },
        "outputId": "d8deffa1-2c8c-4ea5-f874-cf8d81b95fbf"
      },
      "source": [
        "fig_1 = plt.figure(figsize=(14, 4))\n",
        "plt.plot(gt[:3000], color='blue')\n",
        "plt.title(\"Annotation\")\n",
        "plt.ylabel(\"stage\")\n",
        "plt.yticks([0,1,2,3,4], ['W', 'N1', 'N2', 'N3', 'REM'])\n",
        "plt.xlabel(\"epochs\")\n",
        "plt.show()\n",
        "\n",
        "fig_2 = plt.figure(figsize=(14, 4))\n",
        "plt.plot(preds[:3000], color='red')\n",
        "plt.title(\"Prediction\")\n",
        "plt.ylabel(\"stage\")\n",
        "plt.yticks([0,1,2,3,4], ['W', 'N1', 'N2', 'N3', 'REM'])\n",
        "plt.xlabel(\"epochs \")\n",
        "plt.show()"
      ],
      "execution_count": 12,
      "outputs": [
        {
          "output_type": "display_data",
          "data": {
            "image/png": "[encoded data removed]",
            "text/plain": [
              "<Figure size 1008x288 with 1 Axes>"
            ]
          },
          "metadata": {
            "tags": []
          }
        },
        {
          "output_type": "display_data",
          "data": {
            "image/png": "[encoded data removed]",
            "text/plain": [
              "<Figure size 1008x288 with 1 Axes>"
            ]
          },
          "metadata": {
            "tags": []
          }
        }
      ]
    },
    {
      "cell_type": "code",
      "metadata": {
        "id": "UteuehXodRdT",
        "colab_type": "code",
        "colab": {
          "base_uri": "https://localhost:8080/",
          "height": 295
        },
        "outputId": "cc2a9e90-f642-4251-cc17-a60c80a0d091"
      },
      "source": [
        "ifig_3 = plt.figure(figsize=(14, 4))\n",
        "plt.plot(preds[:3000], color='red')\n",
        "plt.plot(gt[:000], color='blue')\n",
        "plt.title(\"Sleep Stages\")\n",
        "plt.ylabel(\"stage\")\n",
        "plt.yticks([0,1,2,3,4], ['W', 'N1', 'N2', 'N3', 'REM'])\n",
        "plt.xlabel(\"epochs\")\n",
        "plt.show()"
      ],
      "execution_count": 13,
      "outputs": [
        {
          "output_type": "display_data",
          "data": {
            "image/png": "[encoded data removed]",
            "text/plain": [
              "<Figure size 1008x288 with 1 Axes>"
            ]
          },
          "metadata": {
            "tags": []
          }
        }
      ]
    },
    {
      "cell_type": "code",
      "metadata": {
        "id": "vC14IM5YdtbC",
        "colab_type": "code",
        "colab": {}
      },
      "source": [
        ""
      ],
      "execution_count": 0,
      "outputs": []
    }
  ]
}